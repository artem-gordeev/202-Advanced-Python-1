{
 "cells": [
  {
   "cell_type": "markdown",
   "id": "e2c24090",
   "metadata": {},
   "source": [
    "<font size=\"7\"><center><b>Лабораторная работа №3</b></center></font>\n",
    "<font size=\"6\"><center><b> $\\beta$-распад. Измерение спектра электронов $\\beta$-распада.</b></center></font>\n"
   ]
  },
  {
   "cell_type": "markdown",
   "id": "1f64a719",
   "metadata": {},
   "source": [
    "<font size=\"4\"> <b> Упражнение 1 </b></font>\n",
    "\n",
    "В первом упражнении была получена зависимость номера канала детектора от энергии электрона, известная из табличных спектров. Погрешность определения номера канала $\\Delta E \\approx 25$ кЭв."
   ]
  },
  {
   "cell_type": "code",
   "execution_count": 29,
   "id": "d0d241fc",
   "metadata": {},
   "outputs": [],
   "source": [
    "import numpy as np\n",
    "import matplotlib.pyplot as plt\n",
    "dE = 25\n",
    "num = np.array([381, 597, 642, 293, 340, 401]) #номера каналов\n",
    "energy = np.array([624, 976, 1048, 481, 555, 656]) #соответствующие им энергии электронов"
   ]
  },
  {
   "cell_type": "markdown",
   "id": "e3d3c21b",
   "metadata": {},
   "source": [
    "Проградуируем спектрометр, определелив коэффициенты зависимости энергии электрона от номера канала $E = AN+B$ с помощью МНК:"
   ]
  },
  {
   "cell_type": "code",
   "execution_count": 5,
   "id": "9a0cf558",
   "metadata": {},
   "outputs": [
    {
     "name": "stdout",
     "output_type": "stream",
     "text": [
      "A = 1.62886, B = 2.83610\n"
     ]
    }
   ],
   "source": [
    "matrix = np.vstack([num, np.ones_like(num)]).T\n",
    "A, B = np.linalg.lstsq(matrix, energy, rcond = None)[0]\n",
    "print(f'A = {A:.5f}, B = {B:.5f}')"
   ]
  },
  {
   "cell_type": "markdown",
   "id": "94ec383f",
   "metadata": {},
   "source": [
    "Погрешности этих коэффициентов определим с помощью формул[1]: \n",
    "$$\\sigma_A = \\Delta N \\sqrt{\\frac{n}{Z}},$$\n",
    "$$\\sigma_B = \\Delta N \\sqrt{\\frac{\\sum N_i^2}{Z}},$$\n",
    "где $$Z = n\\sum N_i^2 - (\\sum N_i)^2 $$"
   ]
  },
  {
   "cell_type": "code",
   "execution_count": 17,
   "id": "4680124e",
   "metadata": {},
   "outputs": [
    {
     "data": {
      "text/plain": [
       "(0.07826601605787013, 36.092770233718575)"
      ]
     },
     "execution_count": 17,
     "metadata": {},
     "output_type": "execute_result"
    }
   ],
   "source": [
    "Z = num.size*sum(num**2)-(sum(num))**2\n",
    "sigma_A = dE * (num.size/Z)**0.5\n",
    "sigma_B = dE * (sum(num**2)/Z)**0.5\n",
    "sigma_A, sigma_B"
   ]
  },
  {
   "cell_type": "markdown",
   "id": "3a572765",
   "metadata": {},
   "source": [
    "Итого $A = 1.63\\pm 0.08$ кЭв, $B = 3\\pm 36 \\sim 40$ кЭв."
   ]
  },
  {
   "cell_type": "markdown",
   "id": "4272e947",
   "metadata": {},
   "source": [
    "<font size=\"4\"><b> Упражнение 2 <b></font> \n",
    "    \n",
    "Во втором упражнении на установке был получен спектр электронов $\\beta$-распада, и получена аппроксимация для функции Ферми-Кюри этого спектра $Y = \\alpha E + \\beta$, тогда максимальная энергия электрона при распаде $E_{max} = 738.6\\pm 0.2$ кЭв. Однако в силу погрешности градуировки спектрометра $E_{max} = 740\\pm 25$ кЭв.\n",
    "   "
   ]
  },
  {
   "cell_type": "code",
   "execution_count": 67,
   "id": "c8dab4a4",
   "metadata": {},
   "outputs": [
    {
     "name": "stdout",
     "output_type": "stream",
     "text": [
      "E_max = 738.61 +- 0.16 kEv\n"
     ]
    }
   ],
   "source": [
    "alpha = -0.0044726\n",
    "da = 7e-7\n",
    "beta = 3.3035\n",
    "db = 5e-4\n",
    "print(f'E_max = {-beta/alpha:.2f} +- {-beta/alpha*((db/beta)**2+da**2/alpha**2)**0.5:.2f} kEv')"
   ]
  },
  {
   "cell_type": "markdown",
   "id": "6a3e0929",
   "metadata": {},
   "source": [
    "<font size=\"4\"><b> Упражнение 3 <b></font> \n",
    "    \n",
    "Во втором упражнении была получена зависимость интенсивности излучения, проходящего через поглотитель, в зависимости от его толщины:\n",
    "    "
   ]
  },
  {
   "cell_type": "code",
   "execution_count": 71,
   "id": "d8ad42ad",
   "metadata": {},
   "outputs": [
    {
     "name": "stdout",
     "output_type": "stream",
     "text": [
      "-5.567282678821473 8.239501670127256\n",
      "x = 0.5460 mm, R(Al) = 0.1474 g/cm^2, Energy = 0.4902 kEv)\n"
     ]
    },
    {
     "data": {
      "image/png": "[encoded data removed]",
      "text/plain": [
       "<Figure size 432x288 with 1 Axes>"
      ]
     },
     "metadata": {
      "needs_background": "light"
     },
     "output_type": "display_data"
    }
   ],
   "source": [
    "x = np.array([0.78, 0.89, 0.3, 0.25, 0.2, 0.15, 0.1, 0.06, 0])\n",
    "x+=0.15\n",
    "Intensity = np.array([178, 192, 362, 448, 545, 699, 951, 1326, 2020])\n",
    "ln_I = np.array(np.log(Intensity))\n",
    "error = np.array(Intensity**(-0.5))\n",
    "\n",
    "x1 = np.array(x[4:7])\n",
    "ln_I1 = np.array(ln_I[4:7])\n",
    "matrix = np.vstack([x1, np.ones_like(x1)]).T\n",
    "A, B = np.linalg.lstsq(matrix, ln_I1, rcond = None)[0]\n",
    "print(A, B)\n",
    "\n",
    "\"\"\"delta = sum(x**2/error**2) * sum(error**(-2)) - (sum(x/error**2))**2\n",
    "alpha = (sum(x*ln_I/error**2) * sum(error**(-2)) - sum(x/error**2) * sum(ln_I/error**2) ) / delta\n",
    "beta = (sum(x**2*ln_I/error**2) * sum(error**(-2)) - sum(x/error**2) * sum(ln_I*x/error**2) ) / delta\n",
    "print(alpha, beta)\"\"\" \n",
    "result_x = (5.2-B)/A\n",
    "R = 2.7 * result_x/10\n",
    "E = (R/0.4)**(1/1.4)\n",
    "print(f'x = {result_x:.4f} mm, R(Al) = {R:.4f} g/cm^2, Energy = {E:.4f} kEv)')\n",
    "\n",
    "plt.errorbar(x, ln_I, yerr = error, fmt = 'none')\n",
    "plt.scatter(x, ln_I)\n",
    "#plt.plot([0.15,0.75], [beta+alpha*0.15, beta+alpha*0.75])\n",
    "plt.plot([0.15,0.6], [B+A*0.15, B+A*0.6])\n",
    "plt.xlabel('Толщина поглотителя')\n",
    "plt.ylabel('ln I')\n",
    "plt.title('Зависимость логарифма интенсивности бета-распада от толщины поглотителя')\n",
    "plt.show()"
   ]
  },
  {
   "cell_type": "markdown",
   "id": "b7cd8da4",
   "metadata": {},
   "source": [
    "<font size=\"4\"><b> Итоги работы </b></font>\n",
    "\n",
    "1) Проградуирован полупроводниковый спектрометр и получена зависимость энергии электрона от номера канала: <br/>\n",
    "$E = AN + B$, где $A = 1.63\\pm 0.08$ кЭв, $B \\sim 40$ кЭв.\n",
    "\n",
    "2) Измерен спектр $^{204}Tl$ и c помощью графика Ферми-Кюри найдена максимальная энергия электрона при распаде: $E_{max} = 740\\pm 25$ кЭв, что совпадает с табличным значением $E = 763$ кЭв.\n",
    "\n",
    "3) Измерена зависимость интенсивности $\\beta$-распада от толщины поглотителя, и по зависимости $\\ln I(x)$ была получена оценка экстраполированного пробега электрона в алюминии. И далее с помощью эмпирической формулы для пробега $R(Al) = (0.4E)^{1.4}$ получена оценка максимальной энергии $E = 0.49$ кЭв, которая не совпадает с табличным значением.<br/>\n",
    "Объяснить это можно недостаточным количеством экспериментальных точек: для определения экстраполированного пробега необходимо получить прямую, апроксимирующую график вблизи выхода на фон, то есть необходимо измерить $I(x)$ для $x$ от 0.5 до 0.8 мм.\n",
    "\n",
    "4) Ввиду проблем, возникших в последнем методе, можно сделать вывод, что метод с использованием графика Ферми-Кюри лучше метода поглощения."
   ]
  },
  {
   "cell_type": "markdown",
   "id": "e4161ac8",
   "metadata": {},
   "source": [
    "<font size=\"4\"><b> Ссылки: </b></font>\n",
    "[1] И. В. Митин, В. С. Русаков. Анализ и обработка экпериментальных"
   ]
  }
 ],
 "metadata": {
  "kernelspec": {
   "display_name": "Python 3 (ipykernel)",
   "language": "python",
   "name": "python3"
  },
  "language_info": {
   "codemirror_mode": {
    "name": "ipython",
    "version": 3
   },
   "file_extension": ".py",
   "mimetype": "text/x-python",
   "name": "python",
   "nbconvert_exporter": "python",
   "pygments_lexer": "ipython3",
   "version": "3.8.2"
  }
 },
 "nbformat": 4,
 "nbformat_minor": 5
}
